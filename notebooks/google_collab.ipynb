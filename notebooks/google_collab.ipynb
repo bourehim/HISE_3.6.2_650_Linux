{
  "cells": [
    {
      "cell_type": "code",
      "execution_count": null,
      "id": "Omt6xz6ljwIR",
      "metadata": {
        "id": "Omt6xz6ljwIR"
      },
      "outputs": [],
      "source": [
        "!git clone https://github.com/rsxdalv/tts-generation-webui\n"
      ]
    },
    {
      "cell_type": "code",
      "execution_count": null,
      "id": "a66bf3c4",
      "metadata": {
        "id": "a66bf3c4"
      },
      "outputs": [],
      "source": [
        "import os\n",
        "os.chdir(\"./tts-generation-webui\")"
      ]
    },
    {
      "cell_type": "code",
      "execution_count": null,
      "id": "HULYvnXTjzZX",
      "metadata": {
        "id": "HULYvnXTjzZX"
      },
      "outputs": [],
      "source": [
        "# Run install/updates\n",
        "!git pull\n",
        "!pip install -r requirements.txt\n",
        "!python update.py"
      ]
    },
    {
      "cell_type": "code",
      "execution_count": null,
      "id": "203e8384",
      "metadata": {
        "id": "203e8384"
      },
      "outputs": [],
      "source": [
        "# Fix for deepspeed for tortoise\n",
        "# pip uninstall deepspeed\n",
        "# pip install deepspeed==0.8.3"
      ]
    },
    {
      "cell_type": "code",
      "execution_count": null,
      "id": "7726b943",
      "metadata": {
        "id": "7726b943"
      },
      "outputs": [],
      "source": [
        "# Fix torchvision for MusicGen\n",
        "# !pip install torchvision==0.15.0+cu117 --extra-index-url https://download.pytorch.org/whl/cu117"
      ]
    },
    {
      "cell_type": "code",
      "execution_count": null,
      "id": "r0FihjXLklZG",
      "metadata": {
        "id": "r0FihjXLklZG"
      },
      "outputs": [],
      "source": [
        "!python server.py --share"
      ]
    }
  ],
  "metadata": {
    "colab": {
      "provenance": []
    },
    "kernelspec": {
      "display_name": "Python 3",
      "language": "python",
      "name": "python3"
    },
    "language_info": {
      "codemirror_mode": {
        "name": "ipython",
        "version": 3
      },
      "file_extension": ".py",
      "mimetype": "text/x-python",
      "name": "python",
      "nbconvert_exporter": "python",
      "pygments_lexer": "ipython3",
      "version": "3.10.11"
    }
  },
  "nbformat": 4,
  "nbformat_minor": 5
}